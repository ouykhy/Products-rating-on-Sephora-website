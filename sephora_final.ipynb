{
  "cells": [
    {
      "cell_type": "code",
      "execution_count": 2,
      "id": "6fcbb5a2",
      "metadata": {
        "id": "6fcbb5a2"
      },
      "outputs": [],
      "source": [
        "# Libaries\n",
        "import pandas as pd \n",
        "import numpy as np \n",
        "import seaborn as sns\n",
        "import matplotlib.pyplot as plt\n",
        "from pandas_profiling import ProfileReport\n",
        "from pandas.plotting import parallel_coordinates"
      ]
    },
    {
      "cell_type": "code",
      "execution_count": 3,
      "id": "62fccee4",
      "metadata": {
        "id": "62fccee4"
      },
      "outputs": [],
      "source": [
        "from sklearn.model_selection import train_test_split\n",
        "from sklearn.metrics import confusion_matrix, accuracy_score\n",
        "from sklearn.linear_model import LogisticRegression\n",
        "from sklearn.neighbors import KNeighborsClassifier\n",
        "from sklearn import preprocessing\n",
        "from sklearn.ensemble import RandomForestClassifier\n",
        "from sklearn.metrics import classification_report\n",
        "from sklearn.metrics import confusion_matrix"
      ]
    },
    {
      "cell_type": "code",
      "execution_count": 5,
      "id": "39a29517",
      "metadata": {
        "id": "39a29517"
      },
      "outputs": [],
      "source": [
        "data = pd.read_csv('/sephora_website_dataset.csv', engine='python')"
      ]
    },
    {
      "cell_type": "markdown",
      "id": "sKbUdEGW-qsO",
      "metadata": {
        "id": "sKbUdEGW-qsO"
      },
      "source": [
        "# Explanatory analysis"
      ]
    },
    {
      "cell_type": "code",
      "execution_count": null,
      "id": "a9da79ee",
      "metadata": {
        "colab": {
          "base_uri": "https://localhost:8080/"
        },
        "id": "a9da79ee",
        "outputId": "30760566-e81f-4e76-ab55-18cedbd184f4"
      },
      "outputs": [
        {
          "output_type": "execute_result",
          "data": {
            "text/plain": [
              "(9168, 21)"
            ]
          },
          "metadata": {},
          "execution_count": 6
        }
      ],
      "source": [
        "data.shape"
      ]
    },
    {
      "cell_type": "code",
      "execution_count": null,
      "id": "544d8a15",
      "metadata": {
        "colab": {
          "base_uri": "https://localhost:8080/"
        },
        "id": "544d8a15",
        "outputId": "2a3789ca-f6ad-4185-d18b-9e7dc1a021e3"
      },
      "outputs": [
        {
          "data": {
            "text/plain": [
              "Index(['id', 'brand', 'category', 'name', 'size', 'rating',\n",
              "       'number_of_reviews', 'love', 'price', 'value_price', 'URL',\n",
              "       'MarketingFlags', 'MarketingFlags_content', 'options', 'details',\n",
              "       'how_to_use', 'ingredients', 'online_only', 'exclusive',\n",
              "       'limited_edition', 'limited_time_offer'],\n",
              "      dtype='object')"
            ]
          },
          "execution_count": 4,
          "metadata": {},
          "output_type": "execute_result"
        }
      ],
      "source": [
        "data.columns"
      ]
    },
    {
      "cell_type": "code",
      "execution_count": null,
      "id": "fc3e8d86",
      "metadata": {
        "colab": {
          "base_uri": "https://localhost:8080/"
        },
        "id": "fc3e8d86",
        "outputId": "c73ead68-54c1-421a-d699-a0e9de901183"
      },
      "outputs": [
        {
          "data": {
            "text/plain": [
              "brand                  int64\n",
              "category               int64\n",
              "rating               float64\n",
              "number_of_reviews      int64\n",
              "love                   int64\n",
              "price                float64\n",
              "MarketingFlags         int64\n",
              "details                int64\n",
              "how_to_use             int64\n",
              "ingredients           object\n",
              "online_only            int64\n",
              "exclusive              int64\n",
              "agg_labels             int64\n",
              "dtype: object"
            ]
          },
          "execution_count": 69,
          "metadata": {},
          "output_type": "execute_result"
        }
      ],
      "source": [
        "data.dtypes"
      ]
    },
    {
      "cell_type": "code",
      "execution_count": null,
      "id": "47bf8cf1",
      "metadata": {
        "colab": {
          "base_uri": "https://localhost:8080/",
          "height": 239
        },
        "id": "47bf8cf1",
        "outputId": "dfa09eff-0de8-490b-ec94-45b68d2a51ea"
      },
      "outputs": [
        {
          "data": {
            "text/html": [
              "\n",
              "  <div id=\"df-8fc5da7d-c9d8-418c-8c81-ccc2c755a071\">\n",
              "    <div class=\"colab-df-container\">\n",
              "      <div>\n",
              "<style scoped>\n",
              "    .dataframe tbody tr th:only-of-type {\n",
              "        vertical-align: middle;\n",
              "    }\n",
              "\n",
              "    .dataframe tbody tr th {\n",
              "        vertical-align: top;\n",
              "    }\n",
              "\n",
              "    .dataframe thead th {\n",
              "        text-align: right;\n",
              "    }\n",
              "</style>\n",
              "<table border=\"1\" class=\"dataframe\">\n",
              "  <thead>\n",
              "    <tr style=\"text-align: right;\">\n",
              "      <th></th>\n",
              "      <th>brand</th>\n",
              "      <th>category</th>\n",
              "      <th>rating</th>\n",
              "      <th>number_of_reviews</th>\n",
              "      <th>love</th>\n",
              "      <th>price</th>\n",
              "      <th>MarketingFlags</th>\n",
              "      <th>details</th>\n",
              "      <th>how_to_use</th>\n",
              "      <th>ingredients</th>\n",
              "      <th>online_only</th>\n",
              "      <th>exclusive</th>\n",
              "      <th>agg_labels</th>\n",
              "    </tr>\n",
              "  </thead>\n",
              "  <tbody>\n",
              "    <tr>\n",
              "      <th>9164</th>\n",
              "      <td>232</td>\n",
              "      <td>99</td>\n",
              "      <td>0.0</td>\n",
              "      <td>0</td>\n",
              "      <td>266</td>\n",
              "      <td>15.0</td>\n",
              "      <td>1</td>\n",
              "      <td>675</td>\n",
              "      <td>123</td>\n",
              "      <td>1</td>\n",
              "      <td>0</td>\n",
              "      <td>1</td>\n",
              "      <td>0</td>\n",
              "    </tr>\n",
              "    <tr>\n",
              "      <th>9165</th>\n",
              "      <td>232</td>\n",
              "      <td>137</td>\n",
              "      <td>0.0</td>\n",
              "      <td>0</td>\n",
              "      <td>445</td>\n",
              "      <td>16.0</td>\n",
              "      <td>1</td>\n",
              "      <td>641</td>\n",
              "      <td>443</td>\n",
              "      <td>1</td>\n",
              "      <td>0</td>\n",
              "      <td>1</td>\n",
              "      <td>0</td>\n",
              "    </tr>\n",
              "    <tr>\n",
              "      <th>9166</th>\n",
              "      <td>232</td>\n",
              "      <td>142</td>\n",
              "      <td>5.0</td>\n",
              "      <td>46</td>\n",
              "      <td>0</td>\n",
              "      <td>50.0</td>\n",
              "      <td>0</td>\n",
              "      <td>875</td>\n",
              "      <td>15</td>\n",
              "      <td>0</td>\n",
              "      <td>0</td>\n",
              "      <td>0</td>\n",
              "      <td>0</td>\n",
              "    </tr>\n",
              "    <tr>\n",
              "      <th>9167</th>\n",
              "      <td>232</td>\n",
              "      <td>142</td>\n",
              "      <td>0.0</td>\n",
              "      <td>0</td>\n",
              "      <td>0</td>\n",
              "      <td>50.0</td>\n",
              "      <td>0</td>\n",
              "      <td>1453</td>\n",
              "      <td>15</td>\n",
              "      <td>0</td>\n",
              "      <td>0</td>\n",
              "      <td>0</td>\n",
              "      <td>0</td>\n",
              "    </tr>\n",
              "  </tbody>\n",
              "</table>\n",
              "</div>\n",
              "      <button class=\"colab-df-convert\" onclick=\"convertToInteractive('df-8fc5da7d-c9d8-418c-8c81-ccc2c755a071')\"\n",
              "              title=\"Convert this dataframe to an interactive table.\"\n",
              "              style=\"display:none;\">\n",
              "        \n",
              "  <svg xmlns=\"http://www.w3.org/2000/svg\" height=\"24px\"viewBox=\"0 0 24 24\"\n",
              "       width=\"24px\">\n",
              "    <path d=\"M0 0h24v24H0V0z\" fill=\"none\"/>\n",
              "    <path d=\"M18.56 5.44l.94 2.06.94-2.06 2.06-.94-2.06-.94-.94-2.06-.94 2.06-2.06.94zm-11 1L8.5 8.5l.94-2.06 2.06-.94-2.06-.94L8.5 2.5l-.94 2.06-2.06.94zm10 10l.94 2.06.94-2.06 2.06-.94-2.06-.94-.94-2.06-.94 2.06-2.06.94z\"/><path d=\"M17.41 7.96l-1.37-1.37c-.4-.4-.92-.59-1.43-.59-.52 0-1.04.2-1.43.59L10.3 9.45l-7.72 7.72c-.78.78-.78 2.05 0 2.83L4 21.41c.39.39.9.59 1.41.59.51 0 1.02-.2 1.41-.59l7.78-7.78 2.81-2.81c.8-.78.8-2.07 0-2.86zM5.41 20L4 18.59l7.72-7.72 1.47 1.35L5.41 20z\"/>\n",
              "  </svg>\n",
              "      </button>\n",
              "      \n",
              "  <style>\n",
              "    .colab-df-container {\n",
              "      display:flex;\n",
              "      flex-wrap:wrap;\n",
              "      gap: 12px;\n",
              "    }\n",
              "\n",
              "    .colab-df-convert {\n",
              "      background-color: #E8F0FE;\n",
              "      border: none;\n",
              "      border-radius: 50%;\n",
              "      cursor: pointer;\n",
              "      display: none;\n",
              "      fill: #1967D2;\n",
              "      height: 32px;\n",
              "      padding: 0 0 0 0;\n",
              "      width: 32px;\n",
              "    }\n",
              "\n",
              "    .colab-df-convert:hover {\n",
              "      background-color: #E2EBFA;\n",
              "      box-shadow: 0px 1px 2px rgba(60, 64, 67, 0.3), 0px 1px 3px 1px rgba(60, 64, 67, 0.15);\n",
              "      fill: #174EA6;\n",
              "    }\n",
              "\n",
              "    [theme=dark] .colab-df-convert {\n",
              "      background-color: #3B4455;\n",
              "      fill: #D2E3FC;\n",
              "    }\n",
              "\n",
              "    [theme=dark] .colab-df-convert:hover {\n",
              "      background-color: #434B5C;\n",
              "      box-shadow: 0px 1px 3px 1px rgba(0, 0, 0, 0.15);\n",
              "      filter: drop-shadow(0px 1px 2px rgba(0, 0, 0, 0.3));\n",
              "      fill: #FFFFFF;\n",
              "    }\n",
              "  </style>\n",
              "\n",
              "      <script>\n",
              "        const buttonEl =\n",
              "          document.querySelector('#df-8fc5da7d-c9d8-418c-8c81-ccc2c755a071 button.colab-df-convert');\n",
              "        buttonEl.style.display =\n",
              "          google.colab.kernel.accessAllowed ? 'block' : 'none';\n",
              "\n",
              "        async function convertToInteractive(key) {\n",
              "          const element = document.querySelector('#df-8fc5da7d-c9d8-418c-8c81-ccc2c755a071');\n",
              "          const dataTable =\n",
              "            await google.colab.kernel.invokeFunction('convertToInteractive',\n",
              "                                                     [key], {});\n",
              "          if (!dataTable) return;\n",
              "\n",
              "          const docLinkHtml = 'Like what you see? Visit the ' +\n",
              "            '<a target=\"_blank\" href=https://colab.research.google.com/notebooks/data_table.ipynb>data table notebook</a>'\n",
              "            + ' to learn more about interactive tables.';\n",
              "          element.innerHTML = '';\n",
              "          dataTable['output_type'] = 'display_data';\n",
              "          await google.colab.output.renderOutput(dataTable, element);\n",
              "          const docLink = document.createElement('div');\n",
              "          docLink.innerHTML = docLinkHtml;\n",
              "          element.appendChild(docLink);\n",
              "        }\n",
              "      </script>\n",
              "    </div>\n",
              "  </div>\n",
              "  "
            ],
            "text/plain": [
              "      brand  category  rating  ...  online_only  exclusive  agg_labels\n",
              "9164    232        99     0.0  ...            0          1           0\n",
              "9165    232       137     0.0  ...            0          1           0\n",
              "9166    232       142     5.0  ...            0          0           0\n",
              "9167    232       142     0.0  ...            0          0           0\n",
              "\n",
              "[4 rows x 13 columns]"
            ]
          },
          "execution_count": 70,
          "metadata": {},
          "output_type": "execute_result"
        }
      ],
      "source": [
        "data.head(4)\n",
        "data.tail(4)"
      ]
    },
    {
      "cell_type": "markdown",
      "id": "ce34d6de",
      "metadata": {
        "id": "ce34d6de"
      },
      "source": [
        "Profile report generated and downloaded"
      ]
    },
    {
      "cell_type": "code",
      "execution_count": null,
      "id": "5cdb2943",
      "metadata": {
        "id": "5cdb2943"
      },
      "outputs": [],
      "source": [
        "# profile = ProfileReport(data, title=\"Pandas Profiling Report\")"
      ]
    },
    {
      "cell_type": "code",
      "execution_count": null,
      "id": "8f6801fb",
      "metadata": {
        "id": "8f6801fb"
      },
      "outputs": [],
      "source": [
        "# profile.to_file(r\"C:\\Users\\ouykh\\Documents\\Ironhack\\Final Project\\sephora.html\")"
      ]
    },
    {
      "cell_type": "markdown",
      "id": "306fb585",
      "metadata": {
        "id": "306fb585"
      },
      "source": [
        "dropping the columns:\n",
        "\n",
        "id / options / URL / MarketingFlags_content / limited_edition / limited_time_offer / name / size / value_price"
      ]
    },
    {
      "cell_type": "code",
      "execution_count": 6,
      "id": "e04dc86a",
      "metadata": {
        "id": "e04dc86a"
      },
      "outputs": [],
      "source": [
        "data.drop(['id','options','URL','MarketingFlags_content','limited_edition','limited_time_offer','name','size','value_price'], axis=1, inplace=True)"
      ]
    },
    {
      "cell_type": "code",
      "execution_count": 7,
      "id": "905a5c04",
      "metadata": {
        "id": "905a5c04",
        "colab": {
          "base_uri": "https://localhost:8080/"
        },
        "outputId": "317ff399-d1a2-4e95-9ad4-a9398973bdf1"
      },
      "outputs": [
        {
          "output_type": "execute_result",
          "data": {
            "text/plain": [
              "brand                0\n",
              "category             0\n",
              "rating               0\n",
              "number_of_reviews    0\n",
              "love                 0\n",
              "price                0\n",
              "MarketingFlags       0\n",
              "details              0\n",
              "how_to_use           0\n",
              "ingredients          0\n",
              "online_only          0\n",
              "exclusive            0\n",
              "dtype: int64"
            ]
          },
          "metadata": {},
          "execution_count": 7
        }
      ],
      "source": [
        "data.isna().sum()"
      ]
    },
    {
      "cell_type": "markdown",
      "id": "2d61f23e",
      "metadata": {
        "id": "2d61f23e"
      },
      "source": [
        "Encode the categorical columns : \n",
        "MarketingFlags / Brand / Category"
      ]
    },
    {
      "cell_type": "code",
      "execution_count": 9,
      "id": "4542ba2a",
      "metadata": {
        "colab": {
          "base_uri": "https://localhost:8080/"
        },
        "id": "4542ba2a",
        "outputId": "c3e21b00-de4f-4ab9-bf27-f32942445e6b"
      },
      "outputs": [
        {
          "output_type": "stream",
          "name": "stdout",
          "text": [
            "{0: 0, 1: 1}\n"
          ]
        }
      ],
      "source": [
        "from sklearn.preprocessing import LabelEncoder\n",
        "label = LabelEncoder()\n",
        "data_encode = data\n",
        "\n",
        "label.fit(data_encode['MarketingFlags'])\n",
        "label_name_mapping = dict(zip(label.classes_, label.transform(label.classes_)))\n",
        "print(label_name_mapping)\n",
        "\n",
        "data_encode['MarketingFlags']=label.fit_transform(data_encode['MarketingFlags'])"
      ]
    },
    {
      "cell_type": "code",
      "execution_count": 10,
      "id": "0f46223d",
      "metadata": {
        "colab": {
          "base_uri": "https://localhost:8080/"
        },
        "id": "0f46223d",
        "outputId": "af5ac575-965c-4565-af07-60e59973e87f"
      },
      "outputs": [
        {
          "output_type": "stream",
          "name": "stdout",
          "text": [
            "{'8Greens': 0, 'AERIN': 1, 'ALTERNA Haircare': 2, 'AMOREPACIFIC': 3, 'Acqua Di Parma': 4, 'Aether Beauty': 5, 'Algenist': 6, 'Alpha-H': 7, 'Anastasia Beverly Hills': 8, 'Anthony': 9, 'Antonym': 10, 'Aquis': 11, 'Armani Beauty': 12, 'Artis': 13, 'Artist Couture': 14, 'Atelier Cologne': 15, 'BALENCIAGA': 16, 'BECCA': 17, 'BERDOUES': 18, 'BURBERRY': 19, 'BVLGARI': 20, 'Beachwaver': 21, 'BeautyBio': 22, 'Benefit Cosmetics': 23, 'Better Not Younger': 24, 'Bio Ionic': 25, 'Biossance': 26, 'Bite Beauty': 27, 'Black Up': 28, 'Blinc': 29, 'Bobbi Brown': 30, 'Briogeo': 31, 'Bumble and bumble': 32, 'Buxom': 33, 'By Rosie Jane': 34, 'Bésame Cosmetics': 35, 'CHANEL': 36, 'CLEAN RESERVE': 37, 'CLINIQUE': 38, 'COOLA': 39, 'COVER FX': 40, 'Calvin Klein': 41, 'Capri Blue': 42, 'Carolina Herrera': 43, 'Caudalie': 44, 'Cellu-cup': 45, 'Charlotte Tilbury': 46, 'Chloé': 47, 'Christian Louboutin': 48, 'Christophe Robin': 49, 'Ciaté London': 50, 'Cinema Secrets': 51, 'Clarins': 52, 'Clarisonic Skincare': 53, 'Coal and Canary': 54, 'Cocofloss': 55, 'Commodity': 56, 'Comptoir Sud Pacifique': 57, 'Conture': 58, 'Crushed Tonic': 59, 'DEREK LAM 10 CROSBY': 60, 'DERMAFLASH': 61, 'DL.MD': 62, 'DOLCE&GABBANA': 63, 'DOMINIQUE COSMETICS': 64, 'DUO': 65, 'Deborah Lippmann': 66, 'Dermalogica': 67, 'DevaCurl': 68, 'Dior': 69, 'Donna Karan': 70, \"Dr Roebuck's\": 71, 'Dr. Barbara Sturm': 72, 'Dr. Brandt Skincare': 73, 'Dr. Dennis Gross Skincare': 74, 'Dr. Jart+': 75, 'Drunk Elephant': 76, 'Drybar': 77, 'ELLIS BROOKLYN': 78, 'Earth’s Nectar': 79, 'Edible Beauty': 80, 'Eight & Bob': 81, 'Elizabeth and James': 82, 'Erborian': 83, 'Erno Laszlo': 84, 'Estée Lauder': 85, \"Etat Libre d'Orange\": 86, 'Eve Lom': 87, 'Evian': 88, 'FARSÁLI': 89, 'FENTY BEAUTY by Rihanna': 90, 'FOREO': 91, 'FORM ': 92, 'Fable & Mane': 93, 'Farmacy': 94, 'First Aid Beauty': 95, 'Flora + Bast': 96, 'Floral Street': 97, 'Four Sigmatic': 98, 'Fresh': 99, 'GLAMGLOW': 100, 'GLO Science': 101, 'Givenchy': 102, 'Glow Recipe': 103, 'Golde': 104, 'Good Dye Young': 105, 'Google': 106, 'Grande Cosmetics': 107, 'Gucci': 108, 'Guerlain': 109, 'HERMÈS': 110, 'HUDA BEAUTY': 111, 'HUM Nutrition': 112, 'Herbivore': 113, 'High Beauty': 114, 'Hourglass': 115, 'IGK': 116, 'ILIA': 117, 'INC.redible': 118, 'IT Cosmetics': 119, 'Indie Lee': 120, 'Isle of Paradise': 121, 'JIMMY CHOO': 122, 'Jack Black': 123, 'Jillian Dempsey': 124, 'Jo Malone London': 125, 'John Varvatos': 126, 'Josie Maran': 127, 'Jouer Cosmetics': 128, 'Juicy Couture': 129, 'Juliette Has a Gun': 130, 'KENZOKI': 131, 'KEVYN AUCOIN': 132, 'KNC Beauty': 133, 'KORA Organics': 134, 'KORRES': 135, 'KVD Vegan Beauty': 136, 'Kaja': 137, 'Kate Somerville': 138, 'Kenzo': 139, \"Kiehl's Since 1851\": 140, 'Kilian': 141, 'Kitsch': 142, 'Klorane': 143, 'Koh Gen Do': 144, 'Kopari': 145, 'Kosas': 146, 'Kérastase': 147, \"L'Occitane\": 148, 'LANCER Skincare': 149, 'LANEIGE': 150, 'LASHFOOD': 151, 'LAVANILA': 152, 'LAWLESS': 153, 'LXMI': 154, 'La Mer': 155, 'Lab Series For Men': 156, 'Lancôme': 157, 'Laura Mercier': 158, 'LightStim ': 159, 'Lilly Lashes': 160, 'Living Proof': 161, 'Lord Jones': 162, 'Lunar Beauty': 163, 'MAELYS Cosmetics': 164, 'MAKE UP FOR EVER': 165, 'MDSolarSciences': 166, 'MILK MAKEUP': 167, 'Madam C.J. Walker Beauty Culture': 168, 'Maison Louis Marie': 169, 'Maison Margiela': 170, 'Makeup Eraser': 171, 'Marc Jacobs Beauty': 172, 'Marc Jacobs Fragrances': 173, 'Mario Badescu': 174, 'Marvis': 175, 'Melt Cosmetics': 176, 'Michael Kors': 177, 'Miu Miu': 178, 'Mizani': 179, 'Montblanc': 180, 'Moon Juice': 181, 'Moroccanoil': 182, 'Moschino': 183, 'Mount Lai': 184, 'Mugler': 185, 'Murad': 186, 'NAILS INC.': 187, 'NARS': 188, 'NEST New York': 189, 'NUDESTIX': 190, 'Narciso Rodriguez': 191, 'Natasha Denona': 192, 'Naturally Serious': 193, 'NuFACE': 194, 'Nurse Jamie': 195, 'O&M': 196, 'OLEHENRIKSEN': 197, 'OUAI': 198, 'Obagi Clinical': 199, 'Olaplex': 200, 'Omorovicza': 201, 'Origins': 202, 'Overose': 203, 'PAT McGRATH LABS': 204, 'PATRICK TA': 205, 'PHLUR': 206, 'PINROSE': 207, 'PLAY! by SEPHORA': 208, 'PMD': 209, 'Paco Rabanne': 210, 'Peace Out': 211, 'Perricone MD': 212, 'Peter Thomas Roth': 213, 'Pink Sugar': 214, 'Playa': 215, 'Prada': 216, 'Pretty Vulgar': 217, 'Prima': 218, 'Primera': 219, 'Proactiv': 220, 'Qhemet Biologics': 221, 'REN Clean Skincare': 222, 'RODIN olio lusso ': 223, 'ROEN BEAUTY': 224, 'Rahua': 225, 'Ralph Lauren': 226, 'ReFa': 227, 'Reverie': 228, 'Rita Hazan': 229, 'Rosebud Perfume Co.': 230, 'Rossano Ferretti Parma': 231, 'SEPHORA COLLECTION': 232, 'SHHHOWERCAP': 233, 'SK-II': 234, 'SKYLAR': 235, 'SOBEL SKIN Rx': 236, 'STELLAR': 237, 'SUNDAY RILEY': 238, 'Sachajuan': 239, 'Saint Jane Beauty': 240, 'Sakara Life': 241, 'Saturday Skin': 242, 'Seed Phytonutrients': 243, 'Sephora Favorites': 244, 'Shani Darden Skin Care': 245, 'Shaveworks': 246, 'Shiseido': 247, 'Skin Inc Supplement Bar': 248, 'Skin Laundry': 249, 'Skinfix': 250, 'Slip': 251, 'Smashbox': 252, 'Sol de Janeiro': 253, 'St. Tropez': 254, 'StackedSkincare': 255, 'Sulwhasoo': 256, 'Summer Fridays': 257, 'Supergoop!': 258, 'T3': 259, 'TAN-LUXE': 260, 'TOCCA': 261, 'TOM FORD': 262, 'TWEEZERMAN': 263, 'Taste Beauty': 264, 'Tata Harper': 265, 'Tatcha': 266, 'The 7 Virtues': 267, 'The Art of Shaving': 268, 'The Beauty Chef': 269, 'The INKEY List': 270, 'The Ordinary': 271, 'Together Beauty': 272, 'TokyoMilk': 273, 'Too Cool For School': 274, 'Too Faced': 275, 'Tory Burch': 276, 'Touch In Sol': 277, 'Tower 28 Beauty': 278, 'Urban Decay': 279, 'VOLUSPA': 280, 'Valentino': 281, 'Velour Lashes': 282, 'Verb': 283, 'Versace': 284, 'Viktor&Rolf': 285, 'Violet Voss': 286, 'Virtue': 287, 'Viseart': 288, 'Vital Proteins': 289, 'Vitruvi': 290, 'Volition Beauty': 291, 'Wander Beauty': 292, 'WelleCo': 293, 'Winky Lux': 294, 'Wishful': 295, 'YUNI': 296, 'Youth To The People': 297, 'Yves Saint Laurent': 298, 'alpyn beauty': 299, 'amika': 300, 'bareMinerals': 301, 'beautyblender': 302, 'belif': 303, 'bkr': 304, 'boscia': 305, 'dae': 306, 'dpHUE': 307, 'dyson': 308, 'ghd': 309, 'goop': 310, 'innisfree': 311, 'invisibobble': 312, 'kate spade new york': 313, 'lilah b.': 314, 'lululemon selfcare': 315, 'philosophy': 316, 'rag & bone': 317, 'rms beauty': 318, 'shu uemura': 319, 'stila': 320, 'surratt beauty': 321, 'tarte': 322, 'trèStiQue': 323}\n"
          ]
        }
      ],
      "source": [
        "label.fit(data_encode['brand'])\n",
        "label_name_mapping = dict(zip(label.classes_, label.transform(label.classes_)))\n",
        "print(label_name_mapping)\n",
        "\n",
        "data_encode['brand']=label.fit_transform(data_encode['brand'])"
      ]
    },
    {
      "cell_type": "code",
      "execution_count": 11,
      "id": "094b4bf1",
      "metadata": {
        "colab": {
          "base_uri": "https://localhost:8080/"
        },
        "id": "094b4bf1",
        "outputId": "ab67e662-32f9-40d8-c3bf-d2b64d7fa798"
      },
      "outputs": [
        {
          "output_type": "stream",
          "name": "stdout",
          "text": [
            "{'Accessories': 0, 'After Sun Care': 1, 'Aftershave': 2, 'Anti-Aging': 3, 'BB & CC Cream': 4, 'BB & CC Creams': 5, 'Bath & Body': 6, 'Bath & Shower': 7, 'Bath Soaks & Bubble Bath': 8, 'Beauty Supplements': 9, 'Blemish & Acne Treatments': 10, 'Blotting Papers': 11, 'Blush': 12, 'Body Lotions & Body Oils': 13, 'Body Mist & Hair Mist': 14, 'Body Moisturizers': 15, 'Body Products': 16, 'Body Sprays & Deodorant': 17, 'Body Sunscreen': 18, 'Body Wash & Shower Gel': 19, 'Bronzer': 20, 'Brush Cleaners': 21, 'Brush Sets': 22, 'Candles': 23, 'Candles & Home Scents': 24, 'Cellulite & Stretch Marks': 25, 'Cheek Palettes': 26, 'Cleansing Brushes': 27, 'Cologne': 28, 'Cologne Gift Sets': 29, 'Color Care': 30, 'Color Correct': 31, 'Concealer': 32, 'Conditioner': 33, 'Contour': 34, 'Curling Irons': 35, 'Curls & Coils': 36, 'Decollete & Neck Creams': 37, 'Deodorant & Antiperspirant': 38, 'Deodorant for Men': 39, 'Diffusers': 40, 'Dry Shampoo': 41, 'Exfoliators': 42, 'Eye Brushes': 43, 'Eye Cream': 44, 'Eye Creams & Treatments': 45, 'Eye Masks': 46, 'Eye Palettes': 47, 'Eye Primer': 48, 'Eye Sets': 49, 'Eyebrow': 50, 'Eyelash Curlers': 51, 'Eyeliner': 52, 'Eyeshadow': 53, 'Face Brushes': 54, 'Face Masks': 55, 'Face Oils': 56, 'Face Primer': 57, 'Face Serums': 58, 'Face Sets': 59, 'Face Sunscreen': 60, 'Face Wash': 61, 'Face Wash & Cleansers': 62, 'Face Wipes': 63, 'Facial Cleansing Brushes': 64, 'Facial Peels': 65, 'Facial Rollers': 66, 'False Eyelashes': 67, 'For Body': 68, 'For Face': 69, 'Foundation': 70, 'Fragrance': 71, 'Hair': 72, 'Hair Accessories': 73, 'Hair Brushes & Combs': 74, 'Hair Dryers': 75, 'Hair Masks': 76, 'Hair Oil': 77, 'Hair Primers': 78, 'Hair Products': 79, 'Hair Removal': 80, 'Hair Removal & Shaving': 81, 'Hair Spray': 82, 'Hair Straighteners & Flat Irons': 83, 'Hair Styling & Treatments': 84, 'Hair Styling Products': 85, 'Hair Thinning & Hair Loss': 86, 'Hand Cream & Foot Cream': 87, 'High Tech Tools': 88, 'Highlighter': 89, 'Holistic Wellness': 90, 'Leave-In Conditioner': 91, 'Lid Shadow Brush': 92, 'Lip Balm & Treatment': 93, 'Lip Balms & Treatments': 94, 'Lip Brushes': 95, 'Lip Gloss': 96, 'Lip Liner': 97, 'Lip Plumper': 98, 'Lip Sets': 99, 'Lip Stain': 100, 'Lip Sunscreen': 101, 'Lip Treatments': 102, 'Lipstick': 103, 'Liquid Lipstick': 104, 'Lotions & Oils': 105, 'Makeup': 106, 'Makeup & Travel Cases': 107, 'Makeup Bags & Travel Cases': 108, 'Makeup Palettes': 109, 'Makeup Removers': 110, 'Mascara': 111, 'Mini Size': 112, 'Mirrors & Sharpeners': 113, 'Mists & Essences': 114, 'Moisturizer & Treatments': 115, 'Moisturizers': 116, 'Nail': 117, 'Night Creams': 118, 'Perfume': 119, 'Perfume Gift Sets': 120, 'Powder Brush': 121, 'Rollerballs & Travel Size': 122, 'Scalp & Hair Treatments': 123, 'Scrub & Exfoliants': 124, 'Self Tanners': 125, 'Setting Spray & Powder': 126, 'Shampoo': 127, 'Shampoo & Conditioner': 128, 'Shaving': 129, 'Sheet Masks': 130, 'Skincare': 131, 'Skincare Sets': 132, 'Spa Tools': 133, 'Sponges & Applicators': 134, 'Sunscreen': 135, 'Teeth Whitening': 136, 'Tinted Moisturizer': 137, 'Toners': 138, 'Tweezers & Eyebrow Tools': 139, 'Value & Gift Sets': 140, 'Wellness': 141, 'no category': 142}\n"
          ]
        }
      ],
      "source": [
        "label.fit(data_encode['category'])\n",
        "label_name_mapping = dict(zip(label.classes_, label.transform(label.classes_)))\n",
        "print(label_name_mapping)\n",
        "\n",
        "data_encode['category']=label.fit_transform(data_encode['category'])"
      ]
    },
    {
      "cell_type": "markdown",
      "id": "155643ed",
      "metadata": {
        "id": "155643ed"
      },
      "source": [
        "Transform to numeric the columns 'online_only' and 'Exclusive'"
      ]
    },
    {
      "cell_type": "code",
      "execution_count": 12,
      "id": "66988ba5",
      "metadata": {
        "id": "66988ba5"
      },
      "outputs": [],
      "source": [
        "data_encode['online_only'] = data_encode['online_only'].apply(pd.to_numeric, errors='coerce')\n",
        "data_encode['exclusive'] = data_encode['exclusive'].apply(pd.to_numeric, errors='coerce')"
      ]
    },
    {
      "cell_type": "markdown",
      "id": "e84fdc95",
      "metadata": {
        "id": "e84fdc95"
      },
      "source": [
        "Relabelling Rating values to get rid of decimal"
      ]
    },
    {
      "cell_type": "code",
      "execution_count": 13,
      "id": "e89c11d9",
      "metadata": {
        "id": "e89c11d9"
      },
      "outputs": [],
      "source": [
        "data_encode[\"rating\"].replace({4.5:8,4:7,3.5:6,3:5,2.5:4,2:3,1.5:2}, inplace=True)"
      ]
    },
    {
      "cell_type": "code",
      "execution_count": 14,
      "id": "8eaac5d2",
      "metadata": {
        "colab": {
          "base_uri": "https://localhost:8080/"
        },
        "id": "8eaac5d2",
        "outputId": "e25585e9-4bb4-472e-e710-7a27e8edbb1c"
      },
      "outputs": [
        {
          "output_type": "execute_result",
          "data": {
            "text/plain": [
              "brand                  int64\n",
              "category               int64\n",
              "rating                 int32\n",
              "number_of_reviews      int64\n",
              "love                   int64\n",
              "price                float64\n",
              "MarketingFlags         int64\n",
              "details               object\n",
              "how_to_use            object\n",
              "ingredients           object\n",
              "online_only            int64\n",
              "exclusive              int64\n",
              "dtype: object"
            ]
          },
          "metadata": {},
          "execution_count": 14
        }
      ],
      "source": [
        "data_encode.astype({'rating': 'int32'}).dtypes"
      ]
    },
    {
      "cell_type": "markdown",
      "id": "c434b864",
      "metadata": {
        "id": "c434b864"
      },
      "source": [
        "Transform the 'details' and 'how to use' column to lenght of string"
      ]
    },
    {
      "cell_type": "code",
      "execution_count": 15,
      "id": "e0d7821f",
      "metadata": {
        "id": "e0d7821f"
      },
      "outputs": [],
      "source": [
        "data_encode['details']= data_encode.details.str.len()\n",
        "data_encode['how_to_use']= data_encode['how_to_use'].str.len()"
      ]
    },
    {
      "cell_type": "markdown",
      "id": "a1daecf5",
      "metadata": {
        "id": "a1daecf5"
      },
      "source": [
        "Transform the 'ingredients' column from string to integer to show weither the ingredients were mentioned or not"
      ]
    },
    {
      "cell_type": "code",
      "execution_count": 16,
      "id": "03b53e73",
      "metadata": {
        "id": "03b53e73"
      },
      "outputs": [],
      "source": [
        "data_encode['ingredients'].replace({'unknown': 0}, inplace=True)\n",
        "data_encode.loc[data_encode[\"ingredients\"] != 0, \"ingredients\"] = 1"
      ]
    },
    {
      "cell_type": "code",
      "execution_count": 17,
      "id": "d94d38be",
      "metadata": {
        "colab": {
          "base_uri": "https://localhost:8080/"
        },
        "id": "d94d38be",
        "outputId": "164aa16c-fa0e-4f2c-e377-42404077d659"
      },
      "outputs": [
        {
          "output_type": "execute_result",
          "data": {
            "text/plain": [
              "brand                  int64\n",
              "category               int64\n",
              "rating               float64\n",
              "number_of_reviews      int64\n",
              "love                   int64\n",
              "price                float64\n",
              "MarketingFlags         int64\n",
              "details                int64\n",
              "how_to_use             int64\n",
              "ingredients            int32\n",
              "online_only            int64\n",
              "exclusive              int64\n",
              "dtype: object"
            ]
          },
          "metadata": {},
          "execution_count": 17
        }
      ],
      "source": [
        "data_encode.astype({'ingredients': 'int32'}).dtypes"
      ]
    },
    {
      "cell_type": "code",
      "execution_count": null,
      "id": "85df8c33",
      "metadata": {
        "id": "85df8c33"
      },
      "outputs": [],
      "source": [
        "data_cleaned=data_encode.to_csv(r'C:\\Users\\ouykh\\Documents\\Ironhack\\Final Project\\data_clean.csv')"
      ]
    },
    {
      "cell_type": "code",
      "execution_count": 14,
      "id": "m0TkqF1ggAbV",
      "metadata": {
        "id": "m0TkqF1ggAbV"
      },
      "outputs": [],
      "source": [
        "### Balance data"
      ]
    },
    {
      "cell_type": "code",
      "execution_count": 18,
      "id": "k31-BpGjgNnM",
      "metadata": {
        "colab": {
          "base_uri": "https://localhost:8080/"
        },
        "id": "k31-BpGjgNnM",
        "outputId": "75c0c6e1-c046-4d22-fd70-a8848385f5cc"
      },
      "outputs": [
        {
          "output_type": "execute_result",
          "data": {
            "text/plain": [
              "8.0    3527\n",
              "7.0    2853\n",
              "5.0    1180\n",
              "6.0    1051\n",
              "0.0     398\n",
              "4.0      88\n",
              "3.0      39\n",
              "1.0      23\n",
              "2.0       9\n",
              "Name: rating, dtype: int64"
            ]
          },
          "metadata": {},
          "execution_count": 18
        }
      ],
      "source": [
        "data_encode.rating.value_counts()"
      ]
    },
    {
      "cell_type": "code",
      "execution_count": null,
      "id": "bSuNCeR8Hyek",
      "metadata": {
        "colab": {
          "base_uri": "https://localhost:8080/"
        },
        "id": "bSuNCeR8Hyek",
        "outputId": "247027cb-f74c-49ba-d9c7-c9500bc9f317"
      },
      "outputs": [
        {
          "name": "stdout",
          "output_type": "stream",
          "text": [
            "Requirement already satisfied: imbalanced-learn in /usr/local/lib/python3.7/dist-packages (0.8.1)\n",
            "Requirement already satisfied: numpy>=1.13.3 in /usr/local/lib/python3.7/dist-packages (from imbalanced-learn) (1.19.5)\n",
            "Requirement already satisfied: scikit-learn>=0.24 in /usr/local/lib/python3.7/dist-packages (from imbalanced-learn) (1.0.2)\n",
            "Requirement already satisfied: joblib>=0.11 in /usr/local/lib/python3.7/dist-packages (from imbalanced-learn) (1.1.0)\n",
            "Requirement already satisfied: scipy>=0.19.1 in /usr/local/lib/python3.7/dist-packages (from imbalanced-learn) (1.4.1)\n",
            "Requirement already satisfied: threadpoolctl>=2.0.0 in /usr/local/lib/python3.7/dist-packages (from scikit-learn>=0.24->imbalanced-learn) (3.1.0)\n"
          ]
        }
      ],
      "source": [
        "# pip install imbalanced-learn"
      ]
    },
    {
      "cell_type": "code",
      "execution_count": 19,
      "id": "qrENidgqLg1x",
      "metadata": {
        "id": "qrENidgqLg1x"
      },
      "outputs": [],
      "source": [
        "from imblearn.over_sampling import SMOTE\n",
        "from imblearn.under_sampling import RandomUnderSampler\n",
        "from imblearn.pipeline import Pipeline"
      ]
    },
    {
      "cell_type": "code",
      "execution_count": 20,
      "id": "DUt5HEQCNTaK",
      "metadata": {
        "id": "DUt5HEQCNTaK"
      },
      "outputs": [],
      "source": [
        "data_encode_x = data_encode[data_encode.columns.difference(['rating'])]\n",
        "data_encode_y = data_encode['rating']"
      ]
    },
    {
      "cell_type": "code",
      "execution_count": 21,
      "id": "iXo-aYLULvD2",
      "metadata": {
        "id": "iXo-aYLULvD2"
      },
      "outputs": [],
      "source": [
        "oversample = SMOTE()\n",
        "undersample = RandomUnderSampler()\n",
        "steps = [(\"o\", oversample), (\"u\", undersample)]\n",
        "pipeline = Pipeline(steps=steps)\n",
        "# transform the dataset\n",
        "data_encode_x,data_encode_y = pipeline.fit_resample(data_encode_x,data_encode_y)"
      ]
    },
    {
      "cell_type": "code",
      "execution_count": 22,
      "id": "JnqZw89_Nevb",
      "metadata": {
        "colab": {
          "base_uri": "https://localhost:8080/"
        },
        "id": "JnqZw89_Nevb",
        "outputId": "e9b99404-4809-4847-b1d9-763cca71b65d"
      },
      "outputs": [
        {
          "output_type": "execute_result",
          "data": {
            "text/plain": [
              "0.0    3527\n",
              "1.0    3527\n",
              "2.0    3527\n",
              "3.0    3527\n",
              "4.0    3527\n",
              "5.0    3527\n",
              "6.0    3527\n",
              "7.0    3527\n",
              "8.0    3527\n",
              "Name: rating, dtype: int64"
            ]
          },
          "metadata": {},
          "execution_count": 22
        }
      ],
      "source": [
        "data_encode_y.value_counts()"
      ]
    },
    {
      "cell_type": "code",
      "execution_count": 23,
      "id": "4dfa67e9",
      "metadata": {
        "id": "4dfa67e9"
      },
      "outputs": [],
      "source": [
        "X_train, X_test, y_train, y_test = train_test_split(data_encode_x,data_encode_y, test_size=0.2)"
      ]
    },
    {
      "cell_type": "code",
      "execution_count": 24,
      "id": "bd52bc80",
      "metadata": {
        "id": "bd52bc80"
      },
      "outputs": [],
      "source": [
        "scaler = preprocessing.RobustScaler()\n",
        "robust_x = scaler.fit_transform(X_train)\n",
        "robust_x_test = scaler.transform(X_test)"
      ]
    },
    {
      "cell_type": "markdown",
      "id": "a2178936",
      "metadata": {
        "id": "a2178936"
      },
      "source": [
        "# Modeling, Prediction, and Evaluation (Supervised Learning)"
      ]
    },
    {
      "cell_type": "code",
      "execution_count": null,
      "id": "6bb809fe",
      "metadata": {
        "id": "6bb809fe"
      },
      "outputs": [],
      "source": [
        "# Best accuracy score is 83.6824696802646 % for the Random Forest Classifier"
      ]
    },
    {
      "cell_type": "markdown",
      "id": "5cde5cfd",
      "metadata": {
        "id": "5cde5cfd"
      },
      "source": [
        "### LogisticRegression"
      ]
    },
    {
      "cell_type": "code",
      "execution_count": null,
      "id": "6b127516",
      "metadata": {
        "id": "6b127516",
        "outputId": "d67b7491-8c8a-40bd-d554-f6d1f4d5823d",
        "colab": {
          "base_uri": "https://localhost:8080/"
        }
      },
      "outputs": [
        {
          "output_type": "stream",
          "name": "stderr",
          "text": [
            "/usr/local/lib/python3.7/dist-packages/sklearn/linear_model/_logistic.py:818: ConvergenceWarning: lbfgs failed to converge (status=1):\n",
            "STOP: TOTAL NO. of ITERATIONS REACHED LIMIT.\n",
            "\n",
            "Increase the number of iterations (max_iter) or scale the data as shown in:\n",
            "    https://scikit-learn.org/stable/modules/preprocessing.html\n",
            "Please also refer to the documentation for alternative solver options:\n",
            "    https://scikit-learn.org/stable/modules/linear_model.html#logistic-regression\n",
            "  extra_warning_msg=_LOGISTIC_SOLVER_CONVERGENCE_MSG,\n"
          ]
        },
        {
          "output_type": "stream",
          "name": "stdout",
          "text": [
            "The accuracy of the Logistic Regression is: 37.48621830209482 %\n"
          ]
        },
        {
          "output_type": "execute_result",
          "data": {
            "text/plain": [
              "<matplotlib.axes._subplots.AxesSubplot at 0x7fcd55a8fdd0>"
            ]
          },
          "metadata": {},
          "execution_count": 38
        }
      ],
      "source": [
        "model = LogisticRegression(random_state = 0, solver='lbfgs', multi_class='auto')\n",
        "model.fit(robust_x, y_train)\n",
        "\n",
        "score = model.score(robust_x_test,y_test)\n",
        "y_pred = model.predict(robust_x_test)\n",
        "matrix = confusion_matrix(y_test, y_pred)\n",
        "\n",
        "print('The accuracy of the Logistic Regression is:', score * 100, '%')\n",
        "sns.heatmap(matrix, annot=True)\n",
        "#print('Confusion Matrix:\\n',matrix)"
      ]
    },
    {
      "cell_type": "code",
      "source": [
        ""
      ],
      "metadata": {
        "id": "ZeXHawD28hB8"
      },
      "id": "ZeXHawD28hB8",
      "execution_count": null,
      "outputs": []
    },
    {
      "cell_type": "markdown",
      "id": "fbe10307",
      "metadata": {
        "id": "fbe10307"
      },
      "source": [
        "### KNeighborsClassifier"
      ]
    },
    {
      "cell_type": "code",
      "execution_count": null,
      "id": "42713651",
      "metadata": {
        "id": "42713651",
        "outputId": "863de404-1491-497f-c76f-aabbf8415a78",
        "colab": {
          "base_uri": "https://localhost:8080/"
        }
      },
      "outputs": [
        {
          "output_type": "stream",
          "name": "stdout",
          "text": [
            "The accuracy of the KNeighbors Classifier is: 73.52338951015908 %\n",
            "Confusion Matrix:\n",
            " [[661   3   2   6  10  10   9   3   2]\n",
            " [  1 706   2   1   1   1   5   0   0]\n",
            " [  0   0 701   1   1   0   0   0   0]\n",
            " [  3   2   0 673   3   7   7  18   3]\n",
            " [  6   3   7  10 604  10  12  15   3]\n",
            " [ 39  22  18  31  40 465  47  28  25]\n",
            " [ 12   6  19  20  28  56 459  43  32]\n",
            " [ 25  10   7  27  46 116 166 248 104]\n",
            " [ 19   6  15  28  41 115 154 169 151]]\n"
          ]
        }
      ],
      "source": [
        "knn = KNeighborsClassifier(n_neighbors=5)\n",
        "knn.fit(X_train, y_train)\n",
        "\n",
        "knn_y_pred = knn.predict(X_test)\n",
        "knn_matrix = confusion_matrix(y_test, knn_y_pred)\n",
        "knn_score = knn.score(X_test,y_test)\n",
        "\n",
        "print('The accuracy of the KNeighbors Classifier is:', knn_score * 100, '%')\n",
        "print('Confusion Matrix:\\n',knn_matrix)\n",
        "plt.figure(figsize = (10,7))\n",
        "sns.heatmap(knn_matrix, annot=True)\n",
        "plt.show()"
      ]
    },
    {
      "cell_type": "markdown",
      "id": "84e2c682",
      "metadata": {
        "id": "84e2c682"
      },
      "source": [
        "### RandomForestClassifier"
      ]
    },
    {
      "cell_type": "code",
      "execution_count": null,
      "id": "ff499e43",
      "metadata": {
        "colab": {
          "base_uri": "https://localhost:8080/"
        },
        "id": "ff499e43",
        "outputId": "c621dcf6-c69d-4371-8502-cb652835309d"
      },
      "outputs": [
        {
          "output_type": "stream",
          "name": "stdout",
          "text": [
            "The accuracy of the Random Forest Classifier is: 83.6824696802646 %\n",
            "Confusion Matrix:\n",
            " [[723   0   0   0   0   0   0   0   0]\n",
            " [  0 712   0   0   0   0   0   0   0]\n",
            " [  0   0 717   0   0   0   0   0   0]\n",
            " [  0   1   0 697   1   0   0   0   0]\n",
            " [  0   1   0   1 695   2   1   0   3]\n",
            " [  0   4   1   8   7 565  38  41  43]\n",
            " [  0   0   1   2  22  59 514  72  35]\n",
            " [  0   0   0   1  12  57 103 329 175]\n",
            " [  0   0   0   1   7  70  61 206 361]]\n"
          ]
        }
      ],
      "source": [
        "rfc = RandomForestClassifier(n_estimators=200, class_weight=\"balanced\")\n",
        "rfc.fit(X_train, y_train)\n",
        "rfc_y_pred = rfc.predict(X_test)\n",
        "acc_rfc = rfc.score(X_test, y_test)\n",
        "rfc_matrix = confusion_matrix(y_test, rfc_y_pred)\n",
        "print('The accuracy of the Random Forest Classifier is:', acc_rfc * 100, '%')\n",
        "print('Confusion Matrix:\\n',rfc_matrix)"
      ]
    },
    {
      "cell_type": "markdown",
      "id": "57bf85de",
      "metadata": {
        "id": "57bf85de"
      },
      "source": [
        "### Extra Trees Classifier"
      ]
    },
    {
      "cell_type": "code",
      "execution_count": null,
      "id": "6ca6496c",
      "metadata": {
        "id": "6ca6496c",
        "outputId": "ddbf5ac3-743a-4828-dedf-c34de2eddddf",
        "colab": {
          "base_uri": "https://localhost:8080/"
        }
      },
      "outputs": [
        {
          "output_type": "stream",
          "name": "stdout",
          "text": [
            "The accuracy of the Extra Trees Classifier is: 81.63490313435187 %\n",
            "Confusion Matrix:\n",
            " [[708   1   0   3   1   6   0   2   2]\n",
            " [  0 711   0   0   0   1   0   0   0]\n",
            " [  0   0 717   0   0   0   0   0   0]\n",
            " [  0   0   0 699   0   0   0   0   0]\n",
            " [  3   1   0   0 691   3   2   2   1]\n",
            " [ 19   5   2  10  20 507  42  50  52]\n",
            " [  6   3   0  10  22  64 476  86  38]\n",
            " [  7   1   0   3  10  61  93 310 192]\n",
            " [  4   0   0   1   8  67  65 197 364]]\n"
          ]
        }
      ],
      "source": [
        "from sklearn.ensemble import ExtraTreesClassifier\n",
        "ext = ExtraTreesClassifier(n_estimators=200)\n",
        "ext.fit(X_train, y_train)\n",
        "ext_y_pred = ext.predict(X_test)\n",
        "acc_ext = ext.score(X_test, y_test)\n",
        "ext_matrix = confusion_matrix(y_test, ext_y_pred)\n",
        "print('The accuracy of the Extra Trees Classifier is:', acc_ext * 100, '%')\n",
        "print('Confusion Matrix:\\n',ext_matrix)"
      ]
    },
    {
      "cell_type": "code",
      "execution_count": null,
      "id": "8abd637c",
      "metadata": {
        "id": "8abd637c",
        "outputId": "5dd29c22-ef69-4966-da56-2835f2b35b1f",
        "colab": {
          "base_uri": "https://localhost:8080/"
        }
      },
      "outputs": [
        {
          "output_type": "stream",
          "name": "stdout",
          "text": [
            "The accuracy of the Extra Trees Classifier is: 81.96566388407624 %\n",
            "Confusion Matrix:\n",
            " [[710   0   0   2   1   6   0   3   1]\n",
            " [  0 711   0   0   0   1   0   0   0]\n",
            " [  0   0 717   0   0   0   0   0   0]\n",
            " [  0   0   0 699   0   0   0   0   0]\n",
            " [  3   1   0   1 689   4   3   1   1]\n",
            " [ 14   6   2  10  19 512  46  44  54]\n",
            " [  6   4   0   9  18  65 481  81  41]\n",
            " [  7   1   0   2  10  56  99 315 187]\n",
            " [  4   0   0   1   9  69  64 189 370]]\n"
          ]
        }
      ],
      "source": [
        "from sklearn.ensemble import ExtraTreesClassifier\n",
        "ext = ExtraTreesClassifier(n_estimators=500)\n",
        "ext.fit(X_train, y_train)\n",
        "ext_y_pred = ext.predict(X_test)\n",
        "acc_ext = ext.score(X_test, y_test)\n",
        "ext_matrix = confusion_matrix(y_test, ext_y_pred)\n",
        "print('The accuracy of the Extra Trees Classifier is:', acc_ext * 100, '%')\n",
        "print('Confusion Matrix:\\n',ext_matrix)"
      ]
    },
    {
      "cell_type": "code",
      "execution_count": null,
      "id": "488209bc",
      "metadata": {
        "id": "488209bc",
        "outputId": "e7842962-d0b1-4d6b-c7f8-34eb13d893a5",
        "colab": {
          "base_uri": "https://localhost:8080/"
        }
      },
      "outputs": [
        {
          "output_type": "stream",
          "name": "stdout",
          "text": [
            "The accuracy of the Extra Trees Classifier is: 81.63490313435187 %\n",
            "Confusion Matrix:\n",
            " [[707   1   0   2   1   6   0   3   3]\n",
            " [  0 711   0   0   0   1   0   0   0]\n",
            " [  0   0 717   0   0   0   0   0   0]\n",
            " [  0   0   0 698   1   0   0   0   0]\n",
            " [  3   1   0   1 691   4   2   0   1]\n",
            " [ 14   4   2  12  17 506  49  44  59]\n",
            " [  7   4   0   6  18  61 486  81  42]\n",
            " [  6   1   0   3   9  57  95 310 196]\n",
            " [  4   0   0   1   7  71  64 202 357]]\n"
          ]
        }
      ],
      "source": [
        "from sklearn.ensemble import ExtraTreesClassifier\n",
        "ext = ExtraTreesClassifier(n_estimators=1000)\n",
        "ext.fit(X_train, y_train)\n",
        "ext_y_pred = ext.predict(X_test)\n",
        "acc_ext = ext.score(X_test, y_test)\n",
        "ext_matrix = confusion_matrix(y_test, ext_y_pred)\n",
        "print('The accuracy of the Extra Trees Classifier is:', acc_ext * 100, '%')\n",
        "print('Confusion Matrix:\\n',ext_matrix)"
      ]
    },
    {
      "cell_type": "markdown",
      "id": "a9c9ef44",
      "metadata": {
        "id": "a9c9ef44"
      },
      "source": [
        "### TPOT Automated Machine Learning tool"
      ]
    },
    {
      "cell_type": "code",
      "execution_count": null,
      "id": "707b93a6",
      "metadata": {
        "id": "707b93a6"
      },
      "outputs": [],
      "source": [
        "import tpot\n",
        "from tpot import TPOTClassifier"
      ]
    },
    {
      "cell_type": "code",
      "execution_count": null,
      "id": "5de0f80f",
      "metadata": {
        "id": "5de0f80f"
      },
      "outputs": [],
      "source": [
        "model = TPOTClassifier(generations=2,mutation_rate=0.2, population_size=50, cv=5, scoring='accuracy', verbosity=3, n_jobs=-1)"
      ]
    },
    {
      "cell_type": "code",
      "execution_count": null,
      "id": "5ceae163",
      "metadata": {
        "colab": {
          "referenced_widgets": [
            ""
          ]
        },
        "id": "5ceae163",
        "outputId": "6d15f096-9a96-41de-94aa-e7c6acdb42d8"
      },
      "outputs": [
        {
          "name": "stdout",
          "output_type": "stream",
          "text": [
            "32 operators have been imported by TPOT.\n"
          ]
        },
        {
          "data": {
            "application/vnd.jupyter.widget-view+json": {
              "model_id": "",
              "version_major": 2,
              "version_minor": 0
            },
            "text/plain": [
              "Optimization Progress:   0%|          | 0/150 [00:00<?, ?pipeline/s]"
            ]
          },
          "metadata": {},
          "output_type": "display_data"
        },
        {
          "name": "stdout",
          "output_type": "stream",
          "text": [
            "_pre_test decorator: _random_mutation_operator: num_test=0 Unsupported set of arguments: The combination of penalty='l1' and loss='hinge' is not supported, Parameters: penalty='l1', loss='hinge', dual=True.\n",
            "\n",
            "Generation 1 - Current Pareto front scores:\n",
            "\n",
            "-1\t0.7829408616796715\tRandomForestClassifier(input_matrix, RandomForestClassifier__bootstrap=False, RandomForestClassifier__criterion=gini, RandomForestClassifier__max_features=0.8, RandomForestClassifier__min_samples_leaf=8, RandomForestClassifier__min_samples_split=4, RandomForestClassifier__n_estimators=100)\n",
            "\n",
            "-2\t0.7940456812298725\tRandomForestClassifier(MinMaxScaler(input_matrix), RandomForestClassifier__bootstrap=False, RandomForestClassifier__criterion=entropy, RandomForestClassifier__max_features=0.35000000000000003, RandomForestClassifier__min_samples_leaf=6, RandomForestClassifier__min_samples_split=17, RandomForestClassifier__n_estimators=100)\n",
            "_pre_test decorator: _random_mutation_operator: num_test=0 Solver lbfgs supports only dual=False, got dual=True.\n",
            "_pre_test decorator: _random_mutation_operator: num_test=1 DataFrame.dtypes for data must be int, float, bool or category.  When\n",
            "categorical type is supplied, DMatrix parameter `enable_categorical` must\n",
            "be set to `True`. Invalid columns:ingredients.\n",
            "Pipeline encountered that has previously been evaluated during the optimization process. Using the score from the previous evaluation.\n",
            "Pipeline encountered that has previously been evaluated during the optimization process. Using the score from the previous evaluation.\n",
            "\n",
            "Generation 2 - Current Pareto front scores:\n",
            "\n",
            "-1\t0.7829408616796715\tRandomForestClassifier(input_matrix, RandomForestClassifier__bootstrap=False, RandomForestClassifier__criterion=gini, RandomForestClassifier__max_features=0.8, RandomForestClassifier__min_samples_leaf=8, RandomForestClassifier__min_samples_split=4, RandomForestClassifier__n_estimators=100)\n",
            "\n",
            "-2\t0.7940456812298725\tRandomForestClassifier(MinMaxScaler(input_matrix), RandomForestClassifier__bootstrap=False, RandomForestClassifier__criterion=entropy, RandomForestClassifier__max_features=0.35000000000000003, RandomForestClassifier__min_samples_leaf=6, RandomForestClassifier__min_samples_split=17, RandomForestClassifier__n_estimators=100)\n"
          ]
        },
        {
          "data": {
            "text/plain": [
              "TPOTClassifier(generations=2, mutation_rate=0.2, n_jobs=-1, population_size=50,\n",
              "               scoring='accuracy', verbosity=3)"
            ]
          },
          "execution_count": 36,
          "metadata": {},
          "output_type": "execute_result"
        }
      ],
      "source": [
        "model.fit(X_train, y_train)"
      ]
    },
    {
      "cell_type": "code",
      "execution_count": null,
      "id": "561acef6",
      "metadata": {
        "id": "561acef6"
      },
      "outputs": [],
      "source": [
        "model2 = TPOTClassifier(generations=2,mutation_rate=0.9, population_size=50, cv=5, scoring='accuracy', verbosity=3, n_jobs=-1)"
      ]
    },
    {
      "cell_type": "code",
      "execution_count": null,
      "id": "d78e2ddb",
      "metadata": {
        "colab": {
          "referenced_widgets": [
            ""
          ]
        },
        "id": "d78e2ddb",
        "outputId": "b14eaf01-24cf-4858-dad0-0cf71a204daa"
      },
      "outputs": [
        {
          "name": "stdout",
          "output_type": "stream",
          "text": [
            "32 operators have been imported by TPOT.\n"
          ]
        },
        {
          "data": {
            "application/vnd.jupyter.widget-view+json": {
              "model_id": "",
              "version_major": 2,
              "version_minor": 0
            },
            "text/plain": [
              "Optimization Progress:   0%|          | 0/150 [00:00<?, ?pipeline/s]"
            ]
          },
          "metadata": {},
          "output_type": "display_data"
        },
        {
          "name": "stdout",
          "output_type": "stream",
          "text": [
            "_pre_test decorator: _random_mutation_operator: num_test=0 Solver lbfgs supports only dual=False, got dual=True.\n",
            "_pre_test decorator: _random_mutation_operator: num_test=0 Unsupported set of arguments: The combination of penalty='l2' and loss='hinge' are not supported when dual=False, Parameters: penalty='l2', loss='hinge', dual=False.\n",
            "_pre_test decorator: _random_mutation_operator: num_test=1 Found array with 0 feature(s) (shape=(50, 0)) while a minimum of 1 is required..\n",
            "_pre_test decorator: _random_mutation_operator: num_test=0 DataFrame.dtypes for data must be int, float, bool or category.  When\n",
            "categorical type is supplied, DMatrix parameter `enable_categorical` must\n",
            "be set to `True`. Invalid columns:ingredients.\n",
            "_pre_test decorator: _random_mutation_operator: num_test=1 Solver lbfgs supports only 'l2' or 'none' penalties, got l1 penalty..\n",
            "_pre_test decorator: _random_mutation_operator: num_test=0 Solver lbfgs supports only 'l2' or 'none' penalties, got l1 penalty..\n",
            "Skipped pipeline #83 due to time out. Continuing to the next pipeline.\n",
            "\n",
            "Generation 1 - Current Pareto front scores:\n",
            "\n",
            "-1\t0.7959357938196039\tRandomForestClassifier(input_matrix, RandomForestClassifier__bootstrap=False, RandomForestClassifier__criterion=entropy, RandomForestClassifier__max_features=0.25, RandomForestClassifier__min_samples_leaf=6, RandomForestClassifier__min_samples_split=2, RandomForestClassifier__n_estimators=100)\n",
            "_pre_test decorator: _random_mutation_operator: num_test=0 DataFrame.dtypes for data must be int, float, bool or category.  When\n",
            "categorical type is supplied, DMatrix parameter `enable_categorical` must\n",
            "be set to `True`. Invalid columns:ingredients.\n",
            "_pre_test decorator: _random_mutation_operator: num_test=0 DataFrame.dtypes for data must be int, float, bool or category.  When\n",
            "categorical type is supplied, DMatrix parameter `enable_categorical` must\n",
            "be set to `True`. Invalid columns:ingredients.\n",
            "_pre_test decorator: _random_mutation_operator: num_test=0 DataFrame.dtypes for data must be int, float, bool or category.  When\n",
            "categorical type is supplied, DMatrix parameter `enable_categorical` must\n",
            "be set to `True`. Invalid columns:ingredients.\n",
            "_pre_test decorator: _random_mutation_operator: num_test=0 Expected n_neighbors <= n_samples,  but n_samples = 50, n_neighbors = 56.\n",
            "_pre_test decorator: _random_mutation_operator: num_test=0 Solver lbfgs supports only 'l2' or 'none' penalties, got l1 penalty..\n",
            "\n",
            "Generation 2 - Current Pareto front scores:\n",
            "\n",
            "-1\t0.7959357938196039\tRandomForestClassifier(input_matrix, RandomForestClassifier__bootstrap=False, RandomForestClassifier__criterion=entropy, RandomForestClassifier__max_features=0.25, RandomForestClassifier__min_samples_leaf=6, RandomForestClassifier__min_samples_split=2, RandomForestClassifier__n_estimators=100)\n",
            "\n",
            "-2\t0.7967234667441505\tXGBClassifier(RandomForestClassifier(input_matrix, RandomForestClassifier__bootstrap=False, RandomForestClassifier__criterion=gini, RandomForestClassifier__max_features=0.55, RandomForestClassifier__min_samples_leaf=9, RandomForestClassifier__min_samples_split=3, RandomForestClassifier__n_estimators=100), XGBClassifier__learning_rate=0.1, XGBClassifier__max_depth=8, XGBClassifier__min_child_weight=7, XGBClassifier__n_estimators=100, XGBClassifier__n_jobs=1, XGBClassifier__subsample=0.45, XGBClassifier__verbosity=0)\n"
          ]
        },
        {
          "data": {
            "text/plain": [
              "TPOTClassifier(generations=2, n_jobs=-1, population_size=50, scoring='accuracy',\n",
              "               verbosity=3)"
            ]
          },
          "execution_count": 39,
          "metadata": {},
          "output_type": "execute_result"
        }
      ],
      "source": [
        "model2.fit(X_train, y_train)"
      ]
    },
    {
      "cell_type": "markdown",
      "id": "iO3LYgsD_U_Z",
      "metadata": {
        "id": "iO3LYgsD_U_Z"
      },
      "source": [
        "# Unsupervised ML"
      ]
    },
    {
      "cell_type": "markdown",
      "id": "580fb17a",
      "metadata": {
        "id": "580fb17a"
      },
      "source": [
        "### Unsupervised ML"
      ]
    },
    {
      "cell_type": "code",
      "execution_count": 25,
      "id": "8384339c",
      "metadata": {
        "id": "8384339c"
      },
      "outputs": [],
      "source": [
        "from yellowbrick.cluster import KElbowVisualizer\n",
        "import tkinter as tk\n",
        "from sklearn.cluster import KMeans\n",
        "from sklearn.cluster import AgglomerativeClustering\n",
        "from sklearn.cluster import DBSCAN\n",
        "from sklearn.metrics import silhouette_score, calinski_harabasz_score, adjusted_mutual_info_score, completeness_score, homogeneity_score, adjusted_rand_score, fowlkes_mallows_score"
      ]
    },
    {
      "cell_type": "markdown",
      "id": "c732ee5d",
      "metadata": {
        "id": "c732ee5d"
      },
      "source": [
        "Elbow method to define number of clusters"
      ]
    },
    {
      "cell_type": "code",
      "execution_count": 23,
      "id": "a23ef379",
      "metadata": {
        "colab": {
          "base_uri": "https://localhost:8080/",
          "height": 393
        },
        "id": "a23ef379",
        "outputId": "dcceed91-5596-4bc5-e4ea-61742e489fc4"
      },
      "outputs": [
        {
          "output_type": "display_data",
          "data": {
            "image/png": "[encoded data removed]",
            "text/plain": [
              "<Figure size 576x396 with 2 Axes>"
            ]
          },
          "metadata": {}
        },
        {
          "output_type": "execute_result",
          "data": {
            "text/plain": [
              "<matplotlib.axes._subplots.AxesSubplot at 0x7f0871fd6b50>"
            ]
          },
          "metadata": {},
          "execution_count": 23
        }
      ],
      "source": [
        "model = KMeans()\n",
        "visualizer = KElbowVisualizer(estimator = model, k = (1,12))\n",
        "visualizer.fit(data_encode_x)\n",
        "visualizer.poof()"
      ]
    },
    {
      "cell_type": "markdown",
      "id": "757915ac",
      "metadata": {
        "id": "757915ac"
      },
      "source": [
        "### Implementation and Results of unsupervised ML\n",
        "\n",
        "Highest silhouette score for Agglomerative is 93% for 3 clusters\n",
        "\n",
        "Highest silhouette score for KMeans is 92 for 3 clusters"
      ]
    },
    {
      "cell_type": "markdown",
      "id": "14dfdb63",
      "metadata": {
        "id": "14dfdb63"
      },
      "source": [
        "-=- Agglomerative Clustering -=-"
      ]
    },
    {
      "cell_type": "code",
      "execution_count": 26,
      "id": "60e180a6",
      "metadata": {
        "colab": {
          "base_uri": "https://localhost:8080/"
        },
        "id": "60e180a6",
        "outputId": "98810c7e-9ba9-4c33-905b-fd2703d7a8eb"
      },
      "outputs": [
        {
          "output_type": "stream",
          "name": "stdout",
          "text": [
            "Silhouette Coefficient for Agglomerative with 4 clusters is 0.8356035802583114\n"
          ]
        }
      ],
      "source": [
        "agg = AgglomerativeClustering(n_clusters=4, affinity='euclidean', linkage='ward')  \n",
        "agg.fit_predict(data_encode_x)\n",
        "agg_labels = agg.labels_\n",
        "print('Silhouette Coefficient for Agglomerative with 4 clusters is', silhouette_score(data_encode_x, agg_labels))"
      ]
    },
    {
      "cell_type": "code",
      "execution_count": 27,
      "id": "27934b9d",
      "metadata": {
        "colab": {
          "base_uri": "https://localhost:8080/"
        },
        "id": "27934b9d",
        "outputId": "6e50e5e1-eb10-402b-e191-a1bbfceacef1"
      },
      "outputs": [
        {
          "output_type": "stream",
          "name": "stdout",
          "text": [
            "Silhouette Coefficient for Agglomerative with 3 clusters is 0.9287998714166092\n"
          ]
        }
      ],
      "source": [
        "agg2 = AgglomerativeClustering(n_clusters=3, affinity='euclidean', linkage='ward')  \n",
        "agg2.fit_predict(data_encode_x)\n",
        "agg2_labels = agg2.labels_\n",
        "print('Silhouette Coefficient for Agglomerative with 3 clusters is', silhouette_score(data_encode_x, agg2_labels))"
      ]
    },
    {
      "cell_type": "markdown",
      "id": "56022c95",
      "metadata": {
        "id": "56022c95"
      },
      "source": [
        "-=- Kmeans -=-"
      ]
    },
    {
      "cell_type": "code",
      "execution_count": 28,
      "id": "9ddab8cc",
      "metadata": {
        "colab": {
          "base_uri": "https://localhost:8080/"
        },
        "id": "9ddab8cc",
        "outputId": "337a1495-c0c5-4570-f870-c2162ba2dc4c"
      },
      "outputs": [
        {
          "output_type": "stream",
          "name": "stdout",
          "text": [
            "Silhouette Coefficient for KMeans with 4 clusters is 0.8732512392675\n"
          ]
        }
      ],
      "source": [
        "kmeans2 = KMeans(n_clusters=4, max_iter=100)\n",
        "kmeans2.fit(data_encode_x)\n",
        "y_kmeans2 = kmeans2.predict(data_encode_x)\n",
        "y_kmeans2\n",
        "print('Silhouette Coefficient for KMeans with 4 clusters is', silhouette_score(data_encode_x, y_kmeans2))"
      ]
    },
    {
      "cell_type": "code",
      "execution_count": 29,
      "id": "33518c71",
      "metadata": {
        "colab": {
          "base_uri": "https://localhost:8080/"
        },
        "id": "33518c71",
        "outputId": "f23a0fbc-3c91-4e72-be10-cb2997474212"
      },
      "outputs": [
        {
          "output_type": "stream",
          "name": "stdout",
          "text": [
            "Silhouette Coefficient for KMeans with 3 clusters is 0.920800692140329\n"
          ]
        }
      ],
      "source": [
        "kmeans = KMeans(n_clusters=3, max_iter=100)\n",
        "kmeans.fit(data_encode_x)\n",
        "y_kmeans = kmeans.predict(data_encode_x)\n",
        "y_kmeans\n",
        "print('Silhouette Coefficient for KMeans with 3 clusters is', silhouette_score(data_encode_x, y_kmeans))"
      ]
    },
    {
      "cell_type": "markdown",
      "id": "513b3b0a",
      "metadata": {
        "id": "513b3b0a"
      },
      "source": [
        "-=- DBSCAN -=-"
      ]
    },
    {
      "cell_type": "code",
      "execution_count": 30,
      "id": "87992b2e",
      "metadata": {
        "id": "87992b2e"
      },
      "outputs": [],
      "source": [
        "dbscan = DBSCAN(eps=50, min_samples=2,n_jobs=-1)\n",
        "dbscan.fit(data_encode_x)\n",
        "y_dbscan = dbscan.fit_predict(data_encode_x)\n",
        "dbs= dbscan.labels_"
      ]
    },
    {
      "cell_type": "code",
      "execution_count": 31,
      "id": "d7c0a079",
      "metadata": {
        "colab": {
          "base_uri": "https://localhost:8080/"
        },
        "id": "d7c0a079",
        "outputId": "b5a567da-d73b-417b-e8bb-4c83dee13f55"
      },
      "outputs": [
        {
          "output_type": "execute_result",
          "data": {
            "text/plain": [
              "array([10389,    18,     5, ...,     2,     3,     2])"
            ]
          },
          "metadata": {},
          "execution_count": 31
        }
      ],
      "source": [
        "unique_elements, counts_elements = np.unique(dbs, return_counts=True)\n",
        "unique_elements\n",
        "counts_elements"
      ]
    },
    {
      "cell_type": "code",
      "execution_count": 32,
      "id": "300308b2",
      "metadata": {
        "colab": {
          "base_uri": "https://localhost:8080/"
        },
        "id": "300308b2",
        "outputId": "19ef117d-b01e-4577-a246-e1fb108c216a"
      },
      "outputs": [
        {
          "output_type": "stream",
          "name": "stdout",
          "text": [
            "Silhouette score for DBSCAN is -0.45344791564723624\n"
          ]
        }
      ],
      "source": [
        "print('Silhouette score for DBSCAN is', silhouette_score(data_encode_x, y_dbscan))"
      ]
    },
    {
      "cell_type": "code",
      "execution_count": null,
      "id": "4dcf2d48",
      "metadata": {
        "id": "4dcf2d48"
      },
      "outputs": [],
      "source": [
        "''' DBSCAN is not efficient''' "
      ]
    },
    {
      "cell_type": "code",
      "execution_count": null,
      "id": "F5EbjbSSmPGJ",
      "metadata": {
        "id": "F5EbjbSSmPGJ"
      },
      "outputs": [],
      "source": [
        ""
      ]
    }
  ],
  "metadata": {
    "colab": {
      "name": "sephora_final.ipynb",
      "provenance": []
    },
    "kernelspec": {
      "display_name": "Python 3",
      "language": "python",
      "name": "python3"
    },
    "language_info": {
      "codemirror_mode": {
        "name": "ipython",
        "version": 3
      },
      "file_extension": ".py",
      "mimetype": "text/x-python",
      "name": "python",
      "nbconvert_exporter": "python",
      "pygments_lexer": "ipython3",
      "version": "3.8.8"
    }
  },
  "nbformat": 4,
  "nbformat_minor": 5
}